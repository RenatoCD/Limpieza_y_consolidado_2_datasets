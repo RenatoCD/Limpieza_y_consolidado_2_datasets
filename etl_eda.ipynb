{
 "cells": [
  {
   "cell_type": "code",
   "execution_count": 757,
   "metadata": {},
   "outputs": [],
   "source": [
    "# Importar librerías \n",
    "import pandas as pd\n",
    "import matplotlib.pyplot as plt\n",
    "import seaborn as sns"
   ]
  },
  {
   "cell_type": "code",
   "execution_count": 758,
   "metadata": {},
   "outputs": [],
   "source": [
    "data_folder = 'data/'"
   ]
  },
  {
   "cell_type": "code",
   "execution_count": 759,
   "metadata": {},
   "outputs": [],
   "source": [
    "# Cargar los archivos CSV\n",
    "booking_df = pd.read_csv(data_folder + 'booking.csv')\n",
    "propiedades_df = pd.read_csv(data_folder + 'propiedades.csv')"
   ]
  },
  {
   "cell_type": "markdown",
   "metadata": {},
   "source": [
    "Limpieza y EDA del primer dataset"
   ]
  },
  {
   "cell_type": "code",
   "execution_count": 760,
   "metadata": {},
   "outputs": [
    {
     "data": {
      "text/html": [
       "<div>\n",
       "<style scoped>\n",
       "    .dataframe tbody tr th:only-of-type {\n",
       "        vertical-align: middle;\n",
       "    }\n",
       "\n",
       "    .dataframe tbody tr th {\n",
       "        vertical-align: top;\n",
       "    }\n",
       "\n",
       "    .dataframe thead th {\n",
       "        text-align: right;\n",
       "    }\n",
       "</style>\n",
       "<table border=\"1\" class=\"dataframe\">\n",
       "  <thead>\n",
       "    <tr style=\"text-align: right;\">\n",
       "      <th></th>\n",
       "      <th>PropertyId</th>\n",
       "      <th>Property_BookingId</th>\n",
       "      <th>BookingCreatedDate</th>\n",
       "      <th>ArrivalDate</th>\n",
       "      <th>DepartureDate</th>\n",
       "      <th>Adults</th>\n",
       "      <th>Children</th>\n",
       "      <th>Infants</th>\n",
       "      <th>Persons</th>\n",
       "      <th>NumNights</th>\n",
       "      <th>Channel</th>\n",
       "      <th>RoomRate</th>\n",
       "      <th>CleaningFee</th>\n",
       "      <th>Revenue</th>\n",
       "      <th>ADR</th>\n",
       "      <th>TouristTax</th>\n",
       "      <th>TotalPaid</th>\n",
       "    </tr>\n",
       "  </thead>\n",
       "  <tbody>\n",
       "    <tr>\n",
       "      <th>0</th>\n",
       "      <td>43469</td>\n",
       "      <td>155168</td>\n",
       "      <td>2024-10-03 16:42:13</td>\n",
       "      <td>2024-10-09 00:00:00</td>\n",
       "      <td>2024-10-12 00:00:00</td>\n",
       "      <td>2</td>\n",
       "      <td>0</td>\n",
       "      <td>0</td>\n",
       "      <td>2</td>\n",
       "      <td>3</td>\n",
       "      <td>Airbnb</td>\n",
       "      <td>391.03</td>\n",
       "      <td>0.00</td>\n",
       "      <td>391.03</td>\n",
       "      <td>130.34</td>\n",
       "      <td>3.96</td>\n",
       "      <td>394.99</td>\n",
       "    </tr>\n",
       "    <tr>\n",
       "      <th>1</th>\n",
       "      <td>43025</td>\n",
       "      <td>155167</td>\n",
       "      <td>03/10/2024</td>\n",
       "      <td>2025-02-02 00:00:00</td>\n",
       "      <td>2025-02-07 00:00:00</td>\n",
       "      <td>3</td>\n",
       "      <td>0</td>\n",
       "      <td>0</td>\n",
       "      <td>3</td>\n",
       "      <td>5</td>\n",
       "      <td>Booking.com</td>\n",
       "      <td>1692.00</td>\n",
       "      <td>101.13</td>\n",
       "      <td>1793.13</td>\n",
       "      <td>358.63</td>\n",
       "      <td>15.00</td>\n",
       "      <td>1808.13</td>\n",
       "    </tr>\n",
       "    <tr>\n",
       "      <th>2</th>\n",
       "      <td>43404</td>\n",
       "      <td>155166</td>\n",
       "      <td>03/10/2024</td>\n",
       "      <td>2024-11-18 00:00:00</td>\n",
       "      <td>2024-11-25 00:00:00</td>\n",
       "      <td>3</td>\n",
       "      <td>0</td>\n",
       "      <td>0</td>\n",
       "      <td>3</td>\n",
       "      <td>7</td>\n",
       "      <td>Airbnb</td>\n",
       "      <td>827.17</td>\n",
       "      <td>0.00</td>\n",
       "      <td>827.17</td>\n",
       "      <td>118.17</td>\n",
       "      <td>144.38</td>\n",
       "      <td>971.55</td>\n",
       "    </tr>\n",
       "    <tr>\n",
       "      <th>3</th>\n",
       "      <td>43276</td>\n",
       "      <td>155165</td>\n",
       "      <td>2024-10-03 15:55:39</td>\n",
       "      <td>2024-11-14 00:00:00</td>\n",
       "      <td>2024-11-18 00:00:00</td>\n",
       "      <td>5</td>\n",
       "      <td>0</td>\n",
       "      <td>0</td>\n",
       "      <td>5</td>\n",
       "      <td>4</td>\n",
       "      <td>Airbnb</td>\n",
       "      <td>692.86</td>\n",
       "      <td>0.00</td>\n",
       "      <td>692.86</td>\n",
       "      <td>173.22</td>\n",
       "      <td>137.50</td>\n",
       "      <td>830.36</td>\n",
       "    </tr>\n",
       "    <tr>\n",
       "      <th>4</th>\n",
       "      <td>4138</td>\n",
       "      <td>155164</td>\n",
       "      <td>2024-10-03 15:53:02</td>\n",
       "      <td>2024-11-20 00:00:00</td>\n",
       "      <td>2024-12-06 00:00:00</td>\n",
       "      <td>5</td>\n",
       "      <td>0</td>\n",
       "      <td>0</td>\n",
       "      <td>5</td>\n",
       "      <td>16</td>\n",
       "      <td>Airbnb</td>\n",
       "      <td>2005.43</td>\n",
       "      <td>0.00</td>\n",
       "      <td>2005.43</td>\n",
       "      <td>125.34</td>\n",
       "      <td>240.63</td>\n",
       "      <td>2246.06</td>\n",
       "    </tr>\n",
       "  </tbody>\n",
       "</table>\n",
       "</div>"
      ],
      "text/plain": [
       "   PropertyId  Property_BookingId   BookingCreatedDate          ArrivalDate  \\\n",
       "0       43469              155168  2024-10-03 16:42:13  2024-10-09 00:00:00   \n",
       "1       43025              155167           03/10/2024  2025-02-02 00:00:00   \n",
       "2       43404              155166           03/10/2024  2024-11-18 00:00:00   \n",
       "3       43276              155165  2024-10-03 15:55:39  2024-11-14 00:00:00   \n",
       "4        4138              155164  2024-10-03 15:53:02  2024-11-20 00:00:00   \n",
       "\n",
       "         DepartureDate  Adults  Children  Infants  Persons  NumNights  \\\n",
       "0  2024-10-12 00:00:00       2         0        0        2          3   \n",
       "1  2025-02-07 00:00:00       3         0        0        3          5   \n",
       "2  2024-11-25 00:00:00       3         0        0        3          7   \n",
       "3  2024-11-18 00:00:00       5         0        0        5          4   \n",
       "4  2024-12-06 00:00:00       5         0        0        5         16   \n",
       "\n",
       "       Channel  RoomRate  CleaningFee  Revenue     ADR  TouristTax  TotalPaid  \n",
       "0       Airbnb    391.03         0.00   391.03  130.34        3.96     394.99  \n",
       "1  Booking.com   1692.00       101.13  1793.13  358.63       15.00    1808.13  \n",
       "2       Airbnb    827.17         0.00   827.17  118.17      144.38     971.55  \n",
       "3       Airbnb    692.86         0.00   692.86  173.22      137.50     830.36  \n",
       "4       Airbnb   2005.43         0.00  2005.43  125.34      240.63    2246.06  "
      ]
     },
     "execution_count": 760,
     "metadata": {},
     "output_type": "execute_result"
    }
   ],
   "source": [
    "booking_df.head()"
   ]
  },
  {
   "cell_type": "code",
   "execution_count": 761,
   "metadata": {},
   "outputs": [
    {
     "name": "stdout",
     "output_type": "stream",
     "text": [
      "<class 'pandas.core.frame.DataFrame'>\n",
      "RangeIndex: 79595 entries, 0 to 79594\n",
      "Data columns (total 17 columns):\n",
      " #   Column              Non-Null Count  Dtype  \n",
      "---  ------              --------------  -----  \n",
      " 0   PropertyId          79595 non-null  int64  \n",
      " 1   Property_BookingId  79595 non-null  int64  \n",
      " 2   BookingCreatedDate  79595 non-null  object \n",
      " 3   ArrivalDate         79595 non-null  object \n",
      " 4   DepartureDate       79595 non-null  object \n",
      " 5   Adults              79595 non-null  int64  \n",
      " 6   Children            79595 non-null  int64  \n",
      " 7   Infants             79595 non-null  int64  \n",
      " 8   Persons             79595 non-null  int64  \n",
      " 9   NumNights           79595 non-null  int64  \n",
      " 10  Channel             79162 non-null  object \n",
      " 11  RoomRate            71635 non-null  float64\n",
      " 12  CleaningFee         79595 non-null  float64\n",
      " 13  Revenue             71635 non-null  float64\n",
      " 14  ADR                 79121 non-null  float64\n",
      " 15  TouristTax          79420 non-null  float64\n",
      " 16  TotalPaid           79595 non-null  float64\n",
      "dtypes: float64(6), int64(7), object(4)\n",
      "memory usage: 10.3+ MB\n"
     ]
    }
   ],
   "source": [
    "booking_df.info()"
   ]
  },
  {
   "cell_type": "code",
   "execution_count": 762,
   "metadata": {},
   "outputs": [
    {
     "data": {
      "text/html": [
       "<div>\n",
       "<style scoped>\n",
       "    .dataframe tbody tr th:only-of-type {\n",
       "        vertical-align: middle;\n",
       "    }\n",
       "\n",
       "    .dataframe tbody tr th {\n",
       "        vertical-align: top;\n",
       "    }\n",
       "\n",
       "    .dataframe thead th {\n",
       "        text-align: right;\n",
       "    }\n",
       "</style>\n",
       "<table border=\"1\" class=\"dataframe\">\n",
       "  <thead>\n",
       "    <tr style=\"text-align: right;\">\n",
       "      <th></th>\n",
       "      <th>PropertyId</th>\n",
       "      <th>Property_BookingId</th>\n",
       "      <th>Adults</th>\n",
       "      <th>Children</th>\n",
       "      <th>Infants</th>\n",
       "      <th>Persons</th>\n",
       "      <th>NumNights</th>\n",
       "      <th>RoomRate</th>\n",
       "      <th>CleaningFee</th>\n",
       "      <th>Revenue</th>\n",
       "      <th>ADR</th>\n",
       "      <th>TouristTax</th>\n",
       "      <th>TotalPaid</th>\n",
       "    </tr>\n",
       "  </thead>\n",
       "  <tbody>\n",
       "    <tr>\n",
       "      <th>count</th>\n",
       "      <td>79595.000000</td>\n",
       "      <td>79595.000000</td>\n",
       "      <td>79595.000000</td>\n",
       "      <td>79595.000000</td>\n",
       "      <td>79595.000000</td>\n",
       "      <td>79595.000000</td>\n",
       "      <td>79595.000000</td>\n",
       "      <td>71635.000000</td>\n",
       "      <td>79595.000000</td>\n",
       "      <td>71635.000000</td>\n",
       "      <td>79121.000000</td>\n",
       "      <td>79420.000000</td>\n",
       "      <td>79595.000000</td>\n",
       "    </tr>\n",
       "    <tr>\n",
       "      <th>mean</th>\n",
       "      <td>32905.939092</td>\n",
       "      <td>109414.660016</td>\n",
       "      <td>3.596934</td>\n",
       "      <td>0.416044</td>\n",
       "      <td>0.028595</td>\n",
       "      <td>4.041573</td>\n",
       "      <td>5.378566</td>\n",
       "      <td>953.378157</td>\n",
       "      <td>56.516353</td>\n",
       "      <td>1009.920357</td>\n",
       "      <td>212.989302</td>\n",
       "      <td>61.978410</td>\n",
       "      <td>1075.912741</td>\n",
       "    </tr>\n",
       "    <tr>\n",
       "      <th>std</th>\n",
       "      <td>16619.359274</td>\n",
       "      <td>27978.782124</td>\n",
       "      <td>1.761671</td>\n",
       "      <td>0.885849</td>\n",
       "      <td>0.180560</td>\n",
       "      <td>1.831116</td>\n",
       "      <td>10.859763</td>\n",
       "      <td>839.469840</td>\n",
       "      <td>51.905713</td>\n",
       "      <td>852.887444</td>\n",
       "      <td>119.009103</td>\n",
       "      <td>51.020113</td>\n",
       "      <td>904.098250</td>\n",
       "    </tr>\n",
       "    <tr>\n",
       "      <th>min</th>\n",
       "      <td>2883.000000</td>\n",
       "      <td>48745.000000</td>\n",
       "      <td>0.000000</td>\n",
       "      <td>0.000000</td>\n",
       "      <td>0.000000</td>\n",
       "      <td>0.000000</td>\n",
       "      <td>-29.000000</td>\n",
       "      <td>-179.900000</td>\n",
       "      <td>0.000000</td>\n",
       "      <td>0.000000</td>\n",
       "      <td>0.000000</td>\n",
       "      <td>-116.640000</td>\n",
       "      <td>-600.000000</td>\n",
       "    </tr>\n",
       "    <tr>\n",
       "      <th>25%</th>\n",
       "      <td>12688.000000</td>\n",
       "      <td>87699.500000</td>\n",
       "      <td>2.000000</td>\n",
       "      <td>0.000000</td>\n",
       "      <td>0.000000</td>\n",
       "      <td>3.000000</td>\n",
       "      <td>3.000000</td>\n",
       "      <td>470.700000</td>\n",
       "      <td>0.000000</td>\n",
       "      <td>516.350000</td>\n",
       "      <td>135.340000</td>\n",
       "      <td>24.200000</td>\n",
       "      <td>554.880000</td>\n",
       "    </tr>\n",
       "    <tr>\n",
       "      <th>50%</th>\n",
       "      <td>43038.000000</td>\n",
       "      <td>111050.000000</td>\n",
       "      <td>3.000000</td>\n",
       "      <td>0.000000</td>\n",
       "      <td>0.000000</td>\n",
       "      <td>4.000000</td>\n",
       "      <td>4.000000</td>\n",
       "      <td>756.000000</td>\n",
       "      <td>66.550000</td>\n",
       "      <td>811.300000</td>\n",
       "      <td>191.840000</td>\n",
       "      <td>49.500000</td>\n",
       "      <td>871.370000</td>\n",
       "    </tr>\n",
       "    <tr>\n",
       "      <th>75%</th>\n",
       "      <td>43187.000000</td>\n",
       "      <td>133282.500000</td>\n",
       "      <td>4.000000</td>\n",
       "      <td>0.000000</td>\n",
       "      <td>0.000000</td>\n",
       "      <td>5.000000</td>\n",
       "      <td>6.000000</td>\n",
       "      <td>1198.800000</td>\n",
       "      <td>96.050000</td>\n",
       "      <td>1266.785000</td>\n",
       "      <td>265.820000</td>\n",
       "      <td>84.700000</td>\n",
       "      <td>1352.880000</td>\n",
       "    </tr>\n",
       "    <tr>\n",
       "      <th>max</th>\n",
       "      <td>43630.000000</td>\n",
       "      <td>155168.000000</td>\n",
       "      <td>12.000000</td>\n",
       "      <td>9.000000</td>\n",
       "      <td>4.000000</td>\n",
       "      <td>15.000000</td>\n",
       "      <td>925.000000</td>\n",
       "      <td>32300.000000</td>\n",
       "      <td>327.000000</td>\n",
       "      <td>32300.000000</td>\n",
       "      <td>9009.500000</td>\n",
       "      <td>465.850000</td>\n",
       "      <td>36150.000000</td>\n",
       "    </tr>\n",
       "  </tbody>\n",
       "</table>\n",
       "</div>"
      ],
      "text/plain": [
       "         PropertyId  Property_BookingId        Adults      Children  \\\n",
       "count  79595.000000        79595.000000  79595.000000  79595.000000   \n",
       "mean   32905.939092       109414.660016      3.596934      0.416044   \n",
       "std    16619.359274        27978.782124      1.761671      0.885849   \n",
       "min     2883.000000        48745.000000      0.000000      0.000000   \n",
       "25%    12688.000000        87699.500000      2.000000      0.000000   \n",
       "50%    43038.000000       111050.000000      3.000000      0.000000   \n",
       "75%    43187.000000       133282.500000      4.000000      0.000000   \n",
       "max    43630.000000       155168.000000     12.000000      9.000000   \n",
       "\n",
       "            Infants       Persons     NumNights      RoomRate   CleaningFee  \\\n",
       "count  79595.000000  79595.000000  79595.000000  71635.000000  79595.000000   \n",
       "mean       0.028595      4.041573      5.378566    953.378157     56.516353   \n",
       "std        0.180560      1.831116     10.859763    839.469840     51.905713   \n",
       "min        0.000000      0.000000    -29.000000   -179.900000      0.000000   \n",
       "25%        0.000000      3.000000      3.000000    470.700000      0.000000   \n",
       "50%        0.000000      4.000000      4.000000    756.000000     66.550000   \n",
       "75%        0.000000      5.000000      6.000000   1198.800000     96.050000   \n",
       "max        4.000000     15.000000    925.000000  32300.000000    327.000000   \n",
       "\n",
       "            Revenue           ADR    TouristTax     TotalPaid  \n",
       "count  71635.000000  79121.000000  79420.000000  79595.000000  \n",
       "mean    1009.920357    212.989302     61.978410   1075.912741  \n",
       "std      852.887444    119.009103     51.020113    904.098250  \n",
       "min        0.000000      0.000000   -116.640000   -600.000000  \n",
       "25%      516.350000    135.340000     24.200000    554.880000  \n",
       "50%      811.300000    191.840000     49.500000    871.370000  \n",
       "75%     1266.785000    265.820000     84.700000   1352.880000  \n",
       "max    32300.000000   9009.500000    465.850000  36150.000000  "
      ]
     },
     "execution_count": 762,
     "metadata": {},
     "output_type": "execute_result"
    }
   ],
   "source": [
    "booking_df.describe()\n"
   ]
  },
  {
   "cell_type": "code",
   "execution_count": 763,
   "metadata": {},
   "outputs": [
    {
     "data": {
      "text/plain": [
       "np.int64(0)"
      ]
     },
     "execution_count": 763,
     "metadata": {},
     "output_type": "execute_result"
    }
   ],
   "source": [
    "# Buscar duplicados\n",
    "duplicados_booking = booking_df.duplicated().sum()\n",
    "duplicados_booking"
   ]
  },
  {
   "cell_type": "code",
   "execution_count": 764,
   "metadata": {},
   "outputs": [
    {
     "data": {
      "text/plain": [
       "PropertyId               0\n",
       "Property_BookingId       0\n",
       "BookingCreatedDate       0\n",
       "ArrivalDate              0\n",
       "DepartureDate            0\n",
       "Adults                   0\n",
       "Children                 0\n",
       "Infants                  0\n",
       "Persons                  0\n",
       "NumNights                0\n",
       "Channel                433\n",
       "RoomRate              7960\n",
       "CleaningFee              0\n",
       "Revenue               7960\n",
       "ADR                    474\n",
       "TouristTax             175\n",
       "TotalPaid                0\n",
       "dtype: int64"
      ]
     },
     "execution_count": 764,
     "metadata": {},
     "output_type": "execute_result"
    }
   ],
   "source": [
    "# Buscar nulos\n",
    "faltantes_booking= booking_df.isnull().sum()\n",
    "faltantes_booking"
   ]
  },
  {
   "cell_type": "markdown",
   "metadata": {},
   "source": [
    "Transformación y estandarizaciónm de columnas de fechas a formato datetime para facilitar cálculos posteriores. "
   ]
  },
  {
   "cell_type": "code",
   "execution_count": 765,
   "metadata": {},
   "outputs": [
    {
     "name": "stdout",
     "output_type": "stream",
     "text": [
      "0   2024-10-03\n",
      "1   2024-10-03\n",
      "2   2024-10-03\n",
      "3   2024-10-03\n",
      "4   2024-10-03\n",
      "5   2024-10-03\n",
      "6   2024-10-03\n",
      "7   2024-10-03\n",
      "8   2024-10-03\n",
      "9   2024-10-03\n",
      "Name: BookingCreatedDate, dtype: datetime64[ns]\n",
      "datetime64[ns]\n"
     ]
    }
   ],
   "source": [
    "# La columna BookingCreatedDate presenta diferentes formatos de fecha por lo que debemos proceder por partes.\n",
    "\n",
    "# 1. Detectar las filas que tienen fechas en formato 'dd/mm/yyyy'\n",
    "mask_ddmmyyyy = booking_df['BookingCreatedDate'].str.len() == 10\n",
    "\n",
    "# 2. Convertir las fechas en formato 'dd/mm/yyyy'\n",
    "booking_df.loc[mask_ddmmyyyy, 'BookingCreatedDate'] = pd.to_datetime(\n",
    "    booking_df.loc[mask_ddmmyyyy, 'BookingCreatedDate'], format='%d/%m/%Y', errors='coerce')\n",
    "\n",
    "# 3. Convertir las fechas que ya están en formato 'yyyy-mm-dd HH:MM:SS'\n",
    "booking_df.loc[~mask_ddmmyyyy, 'BookingCreatedDate'] = pd.to_datetime(\n",
    "    booking_df.loc[~mask_ddmmyyyy, 'BookingCreatedDate'], format='%Y-%m-%d %H:%M:%S', errors='coerce')\n",
    "\n",
    "# 4. Asegurarse de que la columna sea de tipo datetime\n",
    "booking_df['BookingCreatedDate'] = pd.to_datetime(booking_df['BookingCreatedDate'], errors='coerce')\n",
    "\n",
    "# 5. Eliminar la hora y quedarnos solo con la fecha en tipo datetime\n",
    "booking_df['BookingCreatedDate'] = pd.to_datetime(booking_df['BookingCreatedDate'].dt.date)\n",
    "\n",
    "# 6. Verificar el resultado\n",
    "print(booking_df['BookingCreatedDate'].head(10))\n",
    "print(booking_df['BookingCreatedDate'].dtypes)  # Para verificar el tipo de dato\n"
   ]
  },
  {
   "cell_type": "code",
   "execution_count": 766,
   "metadata": {},
   "outputs": [
    {
     "name": "stdout",
     "output_type": "stream",
     "text": [
      "0   2024-10-09\n",
      "1   2025-02-02\n",
      "2   2024-11-18\n",
      "3   2024-11-14\n",
      "4   2024-11-20\n",
      "5   2024-12-08\n",
      "6   2024-10-31\n",
      "7   2024-10-07\n",
      "8   2024-11-05\n",
      "9   2024-11-08\n",
      "Name: ArrivalDate, dtype: datetime64[ns]\n"
     ]
    }
   ],
   "source": [
    "# Convertir todas las fechas de 'ArrivalDate' a formato datetime\n",
    "booking_df['ArrivalDate'] = pd.to_datetime(booking_df['ArrivalDate'], format='%Y-%m-%d %H:%M:%S')\n",
    "\n",
    "# Verificar el resultado\n",
    "print(booking_df['ArrivalDate'].head(10))"
   ]
  },
  {
   "cell_type": "code",
   "execution_count": 767,
   "metadata": {},
   "outputs": [
    {
     "name": "stdout",
     "output_type": "stream",
     "text": [
      "0    2024-10-12 00:00:00\n",
      "1    2025-02-07 00:00:00\n",
      "2    2024-11-25 00:00:00\n",
      "3    2024-11-18 00:00:00\n",
      "4    2024-12-06 00:00:00\n",
      "5    2024-12-15 00:00:00\n",
      "6    2024-11-03 00:00:00\n",
      "7    2024-10-09 00:00:00\n",
      "8    2024-11-09 00:00:00\n",
      "9    2024-11-11 00:00:00\n",
      "Name: DepartureDate, dtype: object\n"
     ]
    }
   ],
   "source": [
    "print(booking_df['DepartureDate'].head(10))"
   ]
  },
  {
   "cell_type": "code",
   "execution_count": 768,
   "metadata": {},
   "outputs": [
    {
     "name": "stdout",
     "output_type": "stream",
     "text": [
      "0   2024-10-12\n",
      "1   2025-02-07\n",
      "2   2024-11-25\n",
      "3   2024-11-18\n",
      "4   2024-12-06\n",
      "5   2024-12-15\n",
      "6   2024-11-03\n",
      "7   2024-10-09\n",
      "8   2024-11-09\n",
      "9   2024-11-11\n",
      "Name: DepartureDate, dtype: datetime64[ns]\n"
     ]
    }
   ],
   "source": [
    "# Convertir todas las fechas de 'DepartureDate' a formato datetime\n",
    "booking_df['DepartureDate'] = pd.to_datetime(booking_df['DepartureDate'], format='%Y-%m-%d %H:%M:%S')\n",
    "\n",
    "# Verificar el resultado\n",
    "print(booking_df['DepartureDate'].head(10))"
   ]
  },
  {
   "cell_type": "code",
   "execution_count": 769,
   "metadata": {},
   "outputs": [
    {
     "data": {
      "text/html": [
       "<div>\n",
       "<style scoped>\n",
       "    .dataframe tbody tr th:only-of-type {\n",
       "        vertical-align: middle;\n",
       "    }\n",
       "\n",
       "    .dataframe tbody tr th {\n",
       "        vertical-align: top;\n",
       "    }\n",
       "\n",
       "    .dataframe thead th {\n",
       "        text-align: right;\n",
       "    }\n",
       "</style>\n",
       "<table border=\"1\" class=\"dataframe\">\n",
       "  <thead>\n",
       "    <tr style=\"text-align: right;\">\n",
       "      <th></th>\n",
       "      <th>PropertyId</th>\n",
       "      <th>Property_BookingId</th>\n",
       "      <th>BookingCreatedDate</th>\n",
       "      <th>ArrivalDate</th>\n",
       "      <th>DepartureDate</th>\n",
       "      <th>Adults</th>\n",
       "      <th>Children</th>\n",
       "      <th>Infants</th>\n",
       "      <th>Persons</th>\n",
       "      <th>NumNights</th>\n",
       "      <th>Channel</th>\n",
       "      <th>RoomRate</th>\n",
       "      <th>CleaningFee</th>\n",
       "      <th>Revenue</th>\n",
       "      <th>ADR</th>\n",
       "      <th>TouristTax</th>\n",
       "      <th>TotalPaid</th>\n",
       "    </tr>\n",
       "  </thead>\n",
       "  <tbody>\n",
       "    <tr>\n",
       "      <th>0</th>\n",
       "      <td>43469</td>\n",
       "      <td>155168</td>\n",
       "      <td>2024-10-03</td>\n",
       "      <td>2024-10-09</td>\n",
       "      <td>2024-10-12</td>\n",
       "      <td>2</td>\n",
       "      <td>0</td>\n",
       "      <td>0</td>\n",
       "      <td>2</td>\n",
       "      <td>3</td>\n",
       "      <td>Airbnb</td>\n",
       "      <td>391.03</td>\n",
       "      <td>0.00</td>\n",
       "      <td>391.03</td>\n",
       "      <td>130.34</td>\n",
       "      <td>3.96</td>\n",
       "      <td>394.99</td>\n",
       "    </tr>\n",
       "    <tr>\n",
       "      <th>1</th>\n",
       "      <td>43025</td>\n",
       "      <td>155167</td>\n",
       "      <td>2024-10-03</td>\n",
       "      <td>2025-02-02</td>\n",
       "      <td>2025-02-07</td>\n",
       "      <td>3</td>\n",
       "      <td>0</td>\n",
       "      <td>0</td>\n",
       "      <td>3</td>\n",
       "      <td>5</td>\n",
       "      <td>Booking.com</td>\n",
       "      <td>1692.00</td>\n",
       "      <td>101.13</td>\n",
       "      <td>1793.13</td>\n",
       "      <td>358.63</td>\n",
       "      <td>15.00</td>\n",
       "      <td>1808.13</td>\n",
       "    </tr>\n",
       "    <tr>\n",
       "      <th>2</th>\n",
       "      <td>43404</td>\n",
       "      <td>155166</td>\n",
       "      <td>2024-10-03</td>\n",
       "      <td>2024-11-18</td>\n",
       "      <td>2024-11-25</td>\n",
       "      <td>3</td>\n",
       "      <td>0</td>\n",
       "      <td>0</td>\n",
       "      <td>3</td>\n",
       "      <td>7</td>\n",
       "      <td>Airbnb</td>\n",
       "      <td>827.17</td>\n",
       "      <td>0.00</td>\n",
       "      <td>827.17</td>\n",
       "      <td>118.17</td>\n",
       "      <td>144.38</td>\n",
       "      <td>971.55</td>\n",
       "    </tr>\n",
       "    <tr>\n",
       "      <th>3</th>\n",
       "      <td>43276</td>\n",
       "      <td>155165</td>\n",
       "      <td>2024-10-03</td>\n",
       "      <td>2024-11-14</td>\n",
       "      <td>2024-11-18</td>\n",
       "      <td>5</td>\n",
       "      <td>0</td>\n",
       "      <td>0</td>\n",
       "      <td>5</td>\n",
       "      <td>4</td>\n",
       "      <td>Airbnb</td>\n",
       "      <td>692.86</td>\n",
       "      <td>0.00</td>\n",
       "      <td>692.86</td>\n",
       "      <td>173.22</td>\n",
       "      <td>137.50</td>\n",
       "      <td>830.36</td>\n",
       "    </tr>\n",
       "    <tr>\n",
       "      <th>4</th>\n",
       "      <td>4138</td>\n",
       "      <td>155164</td>\n",
       "      <td>2024-10-03</td>\n",
       "      <td>2024-11-20</td>\n",
       "      <td>2024-12-06</td>\n",
       "      <td>5</td>\n",
       "      <td>0</td>\n",
       "      <td>0</td>\n",
       "      <td>5</td>\n",
       "      <td>16</td>\n",
       "      <td>Airbnb</td>\n",
       "      <td>2005.43</td>\n",
       "      <td>0.00</td>\n",
       "      <td>2005.43</td>\n",
       "      <td>125.34</td>\n",
       "      <td>240.63</td>\n",
       "      <td>2246.06</td>\n",
       "    </tr>\n",
       "  </tbody>\n",
       "</table>\n",
       "</div>"
      ],
      "text/plain": [
       "   PropertyId  Property_BookingId BookingCreatedDate ArrivalDate  \\\n",
       "0       43469              155168         2024-10-03  2024-10-09   \n",
       "1       43025              155167         2024-10-03  2025-02-02   \n",
       "2       43404              155166         2024-10-03  2024-11-18   \n",
       "3       43276              155165         2024-10-03  2024-11-14   \n",
       "4        4138              155164         2024-10-03  2024-11-20   \n",
       "\n",
       "  DepartureDate  Adults  Children  Infants  Persons  NumNights      Channel  \\\n",
       "0    2024-10-12       2         0        0        2          3       Airbnb   \n",
       "1    2025-02-07       3         0        0        3          5  Booking.com   \n",
       "2    2024-11-25       3         0        0        3          7       Airbnb   \n",
       "3    2024-11-18       5         0        0        5          4       Airbnb   \n",
       "4    2024-12-06       5         0        0        5         16       Airbnb   \n",
       "\n",
       "   RoomRate  CleaningFee  Revenue     ADR  TouristTax  TotalPaid  \n",
       "0    391.03         0.00   391.03  130.34        3.96     394.99  \n",
       "1   1692.00       101.13  1793.13  358.63       15.00    1808.13  \n",
       "2    827.17         0.00   827.17  118.17      144.38     971.55  \n",
       "3    692.86         0.00   692.86  173.22      137.50     830.36  \n",
       "4   2005.43         0.00  2005.43  125.34      240.63    2246.06  "
      ]
     },
     "execution_count": 769,
     "metadata": {},
     "output_type": "execute_result"
    }
   ],
   "source": [
    "# Verificar cambios\n",
    "booking_df.head()"
   ]
  },
  {
   "cell_type": "markdown",
   "metadata": {},
   "source": [
    "Manejo de valores nulos en las columnas: Channel, RoomRate, Revenue, ADR, TouristTx."
   ]
  },
  {
   "cell_type": "code",
   "execution_count": 770,
   "metadata": {},
   "outputs": [
    {
     "data": {
      "text/plain": [
       "PropertyId               0\n",
       "Property_BookingId       0\n",
       "BookingCreatedDate       0\n",
       "ArrivalDate              0\n",
       "DepartureDate            0\n",
       "Adults                   0\n",
       "Children                 0\n",
       "Infants                  0\n",
       "Persons                  0\n",
       "NumNights                0\n",
       "Channel                433\n",
       "RoomRate              7960\n",
       "CleaningFee              0\n",
       "Revenue               7960\n",
       "ADR                    474\n",
       "TouristTax             175\n",
       "TotalPaid                0\n",
       "dtype: int64"
      ]
     },
     "execution_count": 770,
     "metadata": {},
     "output_type": "execute_result"
    }
   ],
   "source": [
    "faltantes_booking= booking_df.isnull().sum()\n",
    "faltantes_booking"
   ]
  },
  {
   "cell_type": "code",
   "execution_count": 771,
   "metadata": {},
   "outputs": [
    {
     "name": "stderr",
     "output_type": "stream",
     "text": [
      "C:\\Users\\USUARIO\\AppData\\Local\\Temp\\ipykernel_14096\\2909659942.py:2: FutureWarning: A value is trying to be set on a copy of a DataFrame or Series through chained assignment using an inplace method.\n",
      "The behavior will change in pandas 3.0. This inplace method will never work because the intermediate object on which we are setting values always behaves as a copy.\n",
      "\n",
      "For example, when doing 'df[col].method(value, inplace=True)', try using 'df.method({col: value}, inplace=True)' or df[col] = df[col].method(value) instead, to perform the operation inplace on the original object.\n",
      "\n",
      "\n",
      "  booking_df['Channel'].fillna('Unknown', inplace=True)\n"
     ]
    }
   ],
   "source": [
    "# Reemplazar valores nulos en la columna 'Channel' por 'Unknown'\n",
    "booking_df['Channel'].fillna('Unknown', inplace=True)"
   ]
  },
  {
   "cell_type": "code",
   "execution_count": 772,
   "metadata": {},
   "outputs": [
    {
     "data": {
      "text/plain": [
       "PropertyId               0\n",
       "Property_BookingId       0\n",
       "BookingCreatedDate       0\n",
       "ArrivalDate              0\n",
       "DepartureDate            0\n",
       "Adults                   0\n",
       "Children                 0\n",
       "Infants                  0\n",
       "Persons                  0\n",
       "NumNights                0\n",
       "Channel                  0\n",
       "RoomRate              7960\n",
       "CleaningFee              0\n",
       "Revenue               7960\n",
       "ADR                    474\n",
       "TouristTax             175\n",
       "TotalPaid                0\n",
       "dtype: int64"
      ]
     },
     "execution_count": 772,
     "metadata": {},
     "output_type": "execute_result"
    }
   ],
   "source": [
    "faltantes_booking= booking_df.isnull().sum()\n",
    "faltantes_booking"
   ]
  },
  {
   "cell_type": "code",
   "execution_count": 773,
   "metadata": {},
   "outputs": [
    {
     "name": "stderr",
     "output_type": "stream",
     "text": [
      "C:\\Users\\USUARIO\\AppData\\Local\\Temp\\ipykernel_14096\\1116392499.py:3: FutureWarning: A value is trying to be set on a copy of a DataFrame or Series through chained assignment using an inplace method.\n",
      "The behavior will change in pandas 3.0. This inplace method will never work because the intermediate object on which we are setting values always behaves as a copy.\n",
      "\n",
      "For example, when doing 'df[col].method(value, inplace=True)', try using 'df.method({col: value}, inplace=True)' or df[col] = df[col].method(value) instead, to perform the operation inplace on the original object.\n",
      "\n",
      "\n",
      "  booking_df['RoomRate'].fillna(booking_df['RoomRate'].median(), inplace=True)\n",
      "C:\\Users\\USUARIO\\AppData\\Local\\Temp\\ipykernel_14096\\1116392499.py:4: FutureWarning: A value is trying to be set on a copy of a DataFrame or Series through chained assignment using an inplace method.\n",
      "The behavior will change in pandas 3.0. This inplace method will never work because the intermediate object on which we are setting values always behaves as a copy.\n",
      "\n",
      "For example, when doing 'df[col].method(value, inplace=True)', try using 'df.method({col: value}, inplace=True)' or df[col] = df[col].method(value) instead, to perform the operation inplace on the original object.\n",
      "\n",
      "\n",
      "  booking_df['Revenue'].fillna(booking_df['Revenue'].median(), inplace=True)\n",
      "C:\\Users\\USUARIO\\AppData\\Local\\Temp\\ipykernel_14096\\1116392499.py:5: FutureWarning: A value is trying to be set on a copy of a DataFrame or Series through chained assignment using an inplace method.\n",
      "The behavior will change in pandas 3.0. This inplace method will never work because the intermediate object on which we are setting values always behaves as a copy.\n",
      "\n",
      "For example, when doing 'df[col].method(value, inplace=True)', try using 'df.method({col: value}, inplace=True)' or df[col] = df[col].method(value) instead, to perform the operation inplace on the original object.\n",
      "\n",
      "\n",
      "  booking_df['ADR'].fillna(booking_df['ADR'].median(), inplace=True)\n"
     ]
    }
   ],
   "source": [
    "# Imputar valores en el resto de columnas, tomando la media como valor a imputar. \n",
    "\n",
    "booking_df['RoomRate'].fillna(booking_df['RoomRate'].median(), inplace=True)\n",
    "booking_df['Revenue'].fillna(booking_df['Revenue'].median(), inplace=True)\n",
    "booking_df['ADR'].fillna(booking_df['ADR'].median(), inplace=True)"
   ]
  },
  {
   "cell_type": "code",
   "execution_count": 774,
   "metadata": {},
   "outputs": [
    {
     "name": "stderr",
     "output_type": "stream",
     "text": [
      "C:\\Users\\USUARIO\\AppData\\Local\\Temp\\ipykernel_14096\\2780688131.py:2: FutureWarning: A value is trying to be set on a copy of a DataFrame or Series through chained assignment using an inplace method.\n",
      "The behavior will change in pandas 3.0. This inplace method will never work because the intermediate object on which we are setting values always behaves as a copy.\n",
      "\n",
      "For example, when doing 'df[col].method(value, inplace=True)', try using 'df.method({col: value}, inplace=True)' or df[col] = df[col].method(value) instead, to perform the operation inplace on the original object.\n",
      "\n",
      "\n",
      "  booking_df['TouristTax'].fillna(0, inplace=True)\n"
     ]
    }
   ],
   "source": [
    "# Reemplazar nulos de la columna 'TouristTax' por el valor 0.\n",
    "booking_df['TouristTax'].fillna(0, inplace=True)"
   ]
  },
  {
   "cell_type": "code",
   "execution_count": 775,
   "metadata": {},
   "outputs": [
    {
     "data": {
      "text/plain": [
       "PropertyId            0\n",
       "Property_BookingId    0\n",
       "BookingCreatedDate    0\n",
       "ArrivalDate           0\n",
       "DepartureDate         0\n",
       "Adults                0\n",
       "Children              0\n",
       "Infants               0\n",
       "Persons               0\n",
       "NumNights             0\n",
       "Channel               0\n",
       "RoomRate              0\n",
       "CleaningFee           0\n",
       "Revenue               0\n",
       "ADR                   0\n",
       "TouristTax            0\n",
       "TotalPaid             0\n",
       "dtype: int64"
      ]
     },
     "execution_count": 775,
     "metadata": {},
     "output_type": "execute_result"
    }
   ],
   "source": [
    "# Verficar que ya no hay nulos\n",
    "faltantes_booking= booking_df.isnull().sum()\n",
    "faltantes_booking"
   ]
  },
  {
   "cell_type": "markdown",
   "metadata": {},
   "source": [
    "Verificar coherencia  de la columna Persons"
   ]
  },
  {
   "cell_type": "code",
   "execution_count": 776,
   "metadata": {},
   "outputs": [
    {
     "name": "stdout",
     "output_type": "stream",
     "text": [
      "No se encontraron inconsistencias.\n"
     ]
    }
   ],
   "source": [
    "# La columna 'Persons' debe ser la suma de 'Adults', 'Children', 'Infants' para que sea coherente. \n",
    "booking_df['CalculatedPersons'] = booking_df['Adults'] + booking_df['Children'] + booking_df['Infants']\n",
    "booking_df['Persons_check'] = booking_df['Persons'] == booking_df['CalculatedPersons']\n",
    "# Filtrar las filas donde la suma no coincide\n",
    "inconsistencias = booking_df[booking_df['Persons_check'] == False]\n",
    "\n",
    "# Imprimir las inconsistencias si hay alguna\n",
    "if not inconsistencias.empty:\n",
    "    print(inconsistencias)\n",
    "else:\n",
    "    print(\"No se encontraron inconsistencias.\")"
   ]
  },
  {
   "cell_type": "markdown",
   "metadata": {},
   "source": [
    "Eliminar las columna CalculatedPersons y Persons_check que creamos antes para verificar la consistencia de la variable Persons"
   ]
  },
  {
   "cell_type": "code",
   "execution_count": 777,
   "metadata": {},
   "outputs": [],
   "source": [
    "booking_df.drop(columns=['CalculatedPersons', 'Persons_check'], inplace=True)"
   ]
  },
  {
   "cell_type": "code",
   "execution_count": 778,
   "metadata": {},
   "outputs": [
    {
     "name": "stdout",
     "output_type": "stream",
     "text": [
      "<class 'pandas.core.frame.DataFrame'>\n",
      "RangeIndex: 79595 entries, 0 to 79594\n",
      "Data columns (total 17 columns):\n",
      " #   Column              Non-Null Count  Dtype         \n",
      "---  ------              --------------  -----         \n",
      " 0   PropertyId          79595 non-null  int64         \n",
      " 1   Property_BookingId  79595 non-null  int64         \n",
      " 2   BookingCreatedDate  79595 non-null  datetime64[ns]\n",
      " 3   ArrivalDate         79595 non-null  datetime64[ns]\n",
      " 4   DepartureDate       79595 non-null  datetime64[ns]\n",
      " 5   Adults              79595 non-null  int64         \n",
      " 6   Children            79595 non-null  int64         \n",
      " 7   Infants             79595 non-null  int64         \n",
      " 8   Persons             79595 non-null  int64         \n",
      " 9   NumNights           79595 non-null  int64         \n",
      " 10  Channel             79595 non-null  object        \n",
      " 11  RoomRate            79595 non-null  float64       \n",
      " 12  CleaningFee         79595 non-null  float64       \n",
      " 13  Revenue             79595 non-null  float64       \n",
      " 14  ADR                 79595 non-null  float64       \n",
      " 15  TouristTax          79595 non-null  float64       \n",
      " 16  TotalPaid           79595 non-null  float64       \n",
      "dtypes: datetime64[ns](3), float64(6), int64(7), object(1)\n",
      "memory usage: 10.3+ MB\n"
     ]
    }
   ],
   "source": [
    "# Verificar resultados\n",
    "booking_df.info()"
   ]
  },
  {
   "cell_type": "markdown",
   "metadata": {},
   "source": [
    "Aunque no encontramos valores duplicados en la revisión inicial, nos aseguramos que no haya duplicados después de las transformaciones realizadas."
   ]
  },
  {
   "cell_type": "code",
   "execution_count": 779,
   "metadata": {},
   "outputs": [],
   "source": [
    "booking_df.drop_duplicates(inplace=True)"
   ]
  },
  {
   "cell_type": "markdown",
   "metadata": {},
   "source": [
    "Revisamos los tipos de datos de las variables."
   ]
  },
  {
   "cell_type": "code",
   "execution_count": 780,
   "metadata": {},
   "outputs": [
    {
     "name": "stdout",
     "output_type": "stream",
     "text": [
      "PropertyId                     int64\n",
      "Property_BookingId             int64\n",
      "BookingCreatedDate    datetime64[ns]\n",
      "ArrivalDate           datetime64[ns]\n",
      "DepartureDate         datetime64[ns]\n",
      "Adults                         int64\n",
      "Children                       int64\n",
      "Infants                        int64\n",
      "Persons                        int64\n",
      "NumNights                      int64\n",
      "Channel                       object\n",
      "RoomRate                     float64\n",
      "CleaningFee                  float64\n",
      "Revenue                      float64\n",
      "ADR                          float64\n",
      "TouristTax                   float64\n",
      "TotalPaid                    float64\n",
      "dtype: object\n"
     ]
    }
   ],
   "source": [
    "print(booking_df.dtypes)"
   ]
  },
  {
   "cell_type": "markdown",
   "metadata": {},
   "source": [
    "Detección y tratamiento de outliers. "
   ]
  },
  {
   "cell_type": "code",
   "execution_count": 781,
   "metadata": {},
   "outputs": [
    {
     "data": {
      "image/png": "[encoded data removed]",
      "text/plain": [
       "<Figure size 640x480 with 1 Axes>"
      ]
     },
     "metadata": {},
     "output_type": "display_data"
    }
   ],
   "source": [
    "# Outliers en RoomRate\n",
    "sns.boxplot(x=booking_df['RoomRate'])\n",
    "plt.show()"
   ]
  },
  {
   "cell_type": "code",
   "execution_count": 782,
   "metadata": {},
   "outputs": [],
   "source": [
    "# Calcular los percentiles 1 y 99\n",
    "lower_bound = booking_df['RoomRate'].quantile(0.01)\n",
    "upper_bound = booking_df['RoomRate'].quantile(0.99)\n",
    "\n",
    "# Filtrar el DataFrame para mantener solo los valores entre los percentiles 1 y 99\n",
    "booking_df = booking_df[(booking_df['RoomRate'] > lower_bound) & (booking_df['RoomRate'] < upper_bound)]"
   ]
  },
  {
   "cell_type": "code",
   "execution_count": 783,
   "metadata": {},
   "outputs": [
    {
     "data": {
      "image/png": "[encoded data removed]",
      "text/plain": [
       "<Figure size 640x480 with 1 Axes>"
      ]
     },
     "metadata": {},
     "output_type": "display_data"
    }
   ],
   "source": [
    "# Mostrar cambios después de eliminación de outliers\n",
    "sns.boxplot(x=booking_df['RoomRate'])\n",
    "plt.show()"
   ]
  },
  {
   "cell_type": "code",
   "execution_count": 784,
   "metadata": {},
   "outputs": [
    {
     "data": {
      "image/png": "[encoded data removed]",
      "text/plain": [
       "<Figure size 640x480 with 1 Axes>"
      ]
     },
     "metadata": {},
     "output_type": "display_data"
    }
   ],
   "source": [
    "# Outliers en NumNights\n",
    "sns.boxplot(x=booking_df['NumNights'])\n",
    "plt.show()"
   ]
  },
  {
   "cell_type": "code",
   "execution_count": 785,
   "metadata": {},
   "outputs": [],
   "source": [
    "# Calcular los percentiles 1 y 99\n",
    "lower_bound = booking_df['NumNights'].quantile(0.01)\n",
    "upper_bound = booking_df['NumNights'].quantile(0.99)\n",
    "\n",
    "# Filtrar el DataFrame para mantener solo los valores entre los percentiles 1 y 99\n",
    "booking_df = booking_df[(booking_df['NumNights'] > lower_bound) & (booking_df['NumNights'] < upper_bound)]"
   ]
  },
  {
   "cell_type": "code",
   "execution_count": 786,
   "metadata": {},
   "outputs": [
    {
     "data": {
      "image/png": "[encoded data removed]",
      "text/plain": [
       "<Figure size 640x480 with 1 Axes>"
      ]
     },
     "metadata": {},
     "output_type": "display_data"
    }
   ],
   "source": [
    "# Mostrar cambios después de eliminación de outliers\n",
    "sns.boxplot(x=booking_df['NumNights'])\n",
    "plt.show()"
   ]
  },
  {
   "cell_type": "code",
   "execution_count": 787,
   "metadata": {},
   "outputs": [
    {
     "data": {
      "image/png": "[encoded data removed]",
      "text/plain": [
       "<Figure size 640x480 with 1 Axes>"
      ]
     },
     "metadata": {},
     "output_type": "display_data"
    }
   ],
   "source": [
    "# Outliers en CleaningFee\n",
    "sns.boxplot(x=booking_df['CleaningFee'])\n",
    "plt.show()"
   ]
  },
  {
   "cell_type": "code",
   "execution_count": 788,
   "metadata": {},
   "outputs": [],
   "source": [
    "# Calcular los percentiles 1 y 99\n",
    "lower_bound = booking_df['CleaningFee'].quantile(0.01)\n",
    "upper_bound = booking_df['CleaningFee'].quantile(0.99)\n",
    "\n",
    "# Filtrar el DataFrame para mantener solo los valores entre los percentiles 1 y 99\n",
    "booking_df = booking_df[(booking_df['CleaningFee'] > lower_bound) & (booking_df['CleaningFee'] < upper_bound)]"
   ]
  },
  {
   "cell_type": "code",
   "execution_count": 789,
   "metadata": {},
   "outputs": [
    {
     "data": {
      "image/png": "[encoded data removed]",
      "text/plain": [
       "<Figure size 640x480 with 1 Axes>"
      ]
     },
     "metadata": {},
     "output_type": "display_data"
    }
   ],
   "source": [
    "# Mostrar cambios después de eliminación de outliers\n",
    "sns.boxplot(x=booking_df['CleaningFee'])\n",
    "plt.show()"
   ]
  },
  {
   "cell_type": "code",
   "execution_count": 790,
   "metadata": {},
   "outputs": [
    {
     "data": {
      "image/png": "[encoded data removed]",
      "text/plain": [
       "<Figure size 640x480 with 1 Axes>"
      ]
     },
     "metadata": {},
     "output_type": "display_data"
    }
   ],
   "source": [
    "# Outliers en Revenue\n",
    "sns.boxplot(x=booking_df['Revenue'])\n",
    "plt.show()"
   ]
  },
  {
   "cell_type": "code",
   "execution_count": 791,
   "metadata": {},
   "outputs": [],
   "source": [
    "# Calcular los percentiles 1 y 99\n",
    "lower_bound = booking_df['Revenue'].quantile(0.01)\n",
    "upper_bound = booking_df['Revenue'].quantile(0.99)\n",
    "\n",
    "# Filtrar el DataFrame para mantener solo los valores entre los percentiles 1 y 99\n",
    "booking_df = booking_df[(booking_df['Revenue'] > lower_bound) & (booking_df['Revenue'] < upper_bound)]"
   ]
  },
  {
   "cell_type": "code",
   "execution_count": 792,
   "metadata": {},
   "outputs": [
    {
     "data": {
      "image/png": "[encoded data removed]",
      "text/plain": [
       "<Figure size 640x480 with 1 Axes>"
      ]
     },
     "metadata": {},
     "output_type": "display_data"
    }
   ],
   "source": [
    "# Mostrar cambios después de eliminación de outliers\n",
    "sns.boxplot(x=booking_df['Revenue'])\n",
    "plt.show()"
   ]
  },
  {
   "cell_type": "code",
   "execution_count": 793,
   "metadata": {},
   "outputs": [
    {
     "data": {
      "image/png": "[encoded data removed]",
      "text/plain": [
       "<Figure size 640x480 with 1 Axes>"
      ]
     },
     "metadata": {},
     "output_type": "display_data"
    }
   ],
   "source": [
    "# Outliers en ADR\n",
    "sns.boxplot(x=booking_df['ADR'])\n",
    "plt.show()"
   ]
  },
  {
   "cell_type": "code",
   "execution_count": 794,
   "metadata": {},
   "outputs": [],
   "source": [
    "# Calcular los percentiles 1 y 99\n",
    "lower_bound = booking_df['ADR'].quantile(0.01)\n",
    "upper_bound = booking_df['ADR'].quantile(0.99)\n",
    "\n",
    "# Filtrar el DataFrame para mantener solo los valores entre los percentiles 1 y 99\n",
    "booking_df = booking_df[(booking_df['ADR'] > lower_bound) & (booking_df['ADR'] < upper_bound)]"
   ]
  },
  {
   "cell_type": "code",
   "execution_count": 795,
   "metadata": {},
   "outputs": [
    {
     "data": {
      "image/png": "[encoded data removed]",
      "text/plain": [
       "<Figure size 640x480 with 1 Axes>"
      ]
     },
     "metadata": {},
     "output_type": "display_data"
    }
   ],
   "source": [
    "# Outliers en ADR\n",
    "sns.boxplot(x=booking_df['ADR'])\n",
    "plt.show()"
   ]
  },
  {
   "cell_type": "code",
   "execution_count": 796,
   "metadata": {},
   "outputs": [
    {
     "data": {
      "image/png": "[encoded data removed]",
      "text/plain": [
       "<Figure size 640x480 with 1 Axes>"
      ]
     },
     "metadata": {},
     "output_type": "display_data"
    }
   ],
   "source": [
    "# Outliers en TouristTax\n",
    "sns.boxplot(x=booking_df['TouristTax'])\n",
    "plt.show()"
   ]
  },
  {
   "cell_type": "code",
   "execution_count": 797,
   "metadata": {},
   "outputs": [],
   "source": [
    "# Calcular los percentiles 1 y 99\n",
    "lower_bound = booking_df['TouristTax'].quantile(0.01)\n",
    "upper_bound = booking_df['TouristTax'].quantile(0.99)\n",
    "\n",
    "# Filtrar el DataFrame para mantener solo los valores entre los percentiles 1 y 99\n",
    "booking_df = booking_df[(booking_df['TouristTax'] > lower_bound) & (booking_df['TouristTax'] < upper_bound)]"
   ]
  },
  {
   "cell_type": "code",
   "execution_count": 798,
   "metadata": {},
   "outputs": [
    {
     "data": {
      "image/png": "[encoded data removed]",
      "text/plain": [
       "<Figure size 640x480 with 1 Axes>"
      ]
     },
     "metadata": {},
     "output_type": "display_data"
    }
   ],
   "source": [
    "# Outliers en TouristTax\n",
    "sns.boxplot(x=booking_df['TouristTax'])\n",
    "plt.show()"
   ]
  },
  {
   "cell_type": "code",
   "execution_count": 799,
   "metadata": {},
   "outputs": [
    {
     "data": {
      "image/png": "[encoded data removed]",
      "text/plain": [
       "<Figure size 640x480 with 1 Axes>"
      ]
     },
     "metadata": {},
     "output_type": "display_data"
    }
   ],
   "source": [
    "# Outliers en TotalPaid\n",
    "sns.boxplot(x=booking_df['TotalPaid'])\n",
    "plt.show()"
   ]
  },
  {
   "cell_type": "code",
   "execution_count": 800,
   "metadata": {},
   "outputs": [],
   "source": [
    "# Calcular los percentiles 1 y 99\n",
    "lower_bound = booking_df['TotalPaid'].quantile(0.01)\n",
    "upper_bound = booking_df['TotalPaid'].quantile(0.99)\n",
    "\n",
    "# Filtrar el DataFrame para mantener solo los valores entre los percentiles 1 y 99\n",
    "booking_df = booking_df[(booking_df['TotalPaid'] > lower_bound) & (booking_df['TotalPaid'] < upper_bound)]"
   ]
  },
  {
   "cell_type": "code",
   "execution_count": 801,
   "metadata": {},
   "outputs": [
    {
     "data": {
      "image/png": "[encoded data removed]",
      "text/plain": [
       "<Figure size 640x480 with 1 Axes>"
      ]
     },
     "metadata": {},
     "output_type": "display_data"
    }
   ],
   "source": [
    "# Outliers en TotalPaid\n",
    "sns.boxplot(x=booking_df['TotalPaid'])\n",
    "plt.show()"
   ]
  },
  {
   "cell_type": "markdown",
   "metadata": {},
   "source": [
    "Limpieza y EDA del segundo dataset"
   ]
  },
  {
   "cell_type": "code",
   "execution_count": 802,
   "metadata": {},
   "outputs": [
    {
     "data": {
      "text/html": [
       "<div>\n",
       "<style scoped>\n",
       "    .dataframe tbody tr th:only-of-type {\n",
       "        vertical-align: middle;\n",
       "    }\n",
       "\n",
       "    .dataframe tbody tr th {\n",
       "        vertical-align: top;\n",
       "    }\n",
       "\n",
       "    .dataframe thead th {\n",
       "        text-align: right;\n",
       "    }\n",
       "</style>\n",
       "<table border=\"1\" class=\"dataframe\">\n",
       "  <thead>\n",
       "    <tr style=\"text-align: right;\">\n",
       "      <th></th>\n",
       "      <th>PropertyId</th>\n",
       "      <th>RealProperty</th>\n",
       "      <th>Capacity</th>\n",
       "      <th>Square</th>\n",
       "      <th>PropertyType</th>\n",
       "      <th>NumBedrooms</th>\n",
       "      <th>ReadyDate</th>\n",
       "    </tr>\n",
       "  </thead>\n",
       "  <tbody>\n",
       "    <tr>\n",
       "      <th>0</th>\n",
       "      <td>43630</td>\n",
       "      <td>Yes</td>\n",
       "      <td>7</td>\n",
       "      <td>141</td>\n",
       "      <td>Apartment</td>\n",
       "      <td>3</td>\n",
       "      <td>2024-09-25 00:00:00</td>\n",
       "    </tr>\n",
       "    <tr>\n",
       "      <th>1</th>\n",
       "      <td>43622</td>\n",
       "      <td>Yes</td>\n",
       "      <td>4</td>\n",
       "      <td>70</td>\n",
       "      <td>Apartment</td>\n",
       "      <td>2</td>\n",
       "      <td>2024-08-12 00:00:00</td>\n",
       "    </tr>\n",
       "    <tr>\n",
       "      <th>2</th>\n",
       "      <td>43620</td>\n",
       "      <td>Yes</td>\n",
       "      <td>2</td>\n",
       "      <td>55</td>\n",
       "      <td>Apartment</td>\n",
       "      <td>1</td>\n",
       "      <td>2024-08-04 00:00:00</td>\n",
       "    </tr>\n",
       "    <tr>\n",
       "      <th>3</th>\n",
       "      <td>43616</td>\n",
       "      <td>No</td>\n",
       "      <td>4</td>\n",
       "      <td>60</td>\n",
       "      <td>Apartment</td>\n",
       "      <td>2</td>\n",
       "      <td>2024-07-05 00:00:00</td>\n",
       "    </tr>\n",
       "    <tr>\n",
       "      <th>4</th>\n",
       "      <td>43606</td>\n",
       "      <td>Yes</td>\n",
       "      <td>4</td>\n",
       "      <td>60</td>\n",
       "      <td>Apartment</td>\n",
       "      <td>2</td>\n",
       "      <td>2024-06-27 00:00:00</td>\n",
       "    </tr>\n",
       "  </tbody>\n",
       "</table>\n",
       "</div>"
      ],
      "text/plain": [
       "   PropertyId RealProperty  Capacity  Square PropertyType  NumBedrooms  \\\n",
       "0       43630          Yes         7     141    Apartment            3   \n",
       "1       43622          Yes         4      70    Apartment            2   \n",
       "2       43620          Yes         2      55    Apartment            1   \n",
       "3       43616           No         4      60    Apartment            2   \n",
       "4       43606          Yes         4      60    Apartment            2   \n",
       "\n",
       "             ReadyDate  \n",
       "0  2024-09-25 00:00:00  \n",
       "1  2024-08-12 00:00:00  \n",
       "2  2024-08-04 00:00:00  \n",
       "3  2024-07-05 00:00:00  \n",
       "4  2024-06-27 00:00:00  "
      ]
     },
     "execution_count": 802,
     "metadata": {},
     "output_type": "execute_result"
    }
   ],
   "source": [
    "propiedades_df.head() "
   ]
  },
  {
   "cell_type": "code",
   "execution_count": 803,
   "metadata": {},
   "outputs": [
    {
     "name": "stdout",
     "output_type": "stream",
     "text": [
      "<class 'pandas.core.frame.DataFrame'>\n",
      "RangeIndex: 344 entries, 0 to 343\n",
      "Data columns (total 7 columns):\n",
      " #   Column        Non-Null Count  Dtype \n",
      "---  ------        --------------  ----- \n",
      " 0   PropertyId    344 non-null    int64 \n",
      " 1   RealProperty  344 non-null    object\n",
      " 2   Capacity      344 non-null    int64 \n",
      " 3   Square        344 non-null    int64 \n",
      " 4   PropertyType  310 non-null    object\n",
      " 5   NumBedrooms   344 non-null    int64 \n",
      " 6   ReadyDate     344 non-null    object\n",
      "dtypes: int64(4), object(3)\n",
      "memory usage: 18.9+ KB\n"
     ]
    }
   ],
   "source": [
    "propiedades_df.info()"
   ]
  },
  {
   "cell_type": "code",
   "execution_count": 804,
   "metadata": {},
   "outputs": [
    {
     "data": {
      "text/html": [
       "<div>\n",
       "<style scoped>\n",
       "    .dataframe tbody tr th:only-of-type {\n",
       "        vertical-align: middle;\n",
       "    }\n",
       "\n",
       "    .dataframe tbody tr th {\n",
       "        vertical-align: top;\n",
       "    }\n",
       "\n",
       "    .dataframe thead th {\n",
       "        text-align: right;\n",
       "    }\n",
       "</style>\n",
       "<table border=\"1\" class=\"dataframe\">\n",
       "  <thead>\n",
       "    <tr style=\"text-align: right;\">\n",
       "      <th></th>\n",
       "      <th>PropertyId</th>\n",
       "      <th>Capacity</th>\n",
       "      <th>Square</th>\n",
       "      <th>NumBedrooms</th>\n",
       "    </tr>\n",
       "  </thead>\n",
       "  <tbody>\n",
       "    <tr>\n",
       "      <th>count</th>\n",
       "      <td>344.000000</td>\n",
       "      <td>344.000000</td>\n",
       "      <td>344.000000</td>\n",
       "      <td>344.000000</td>\n",
       "    </tr>\n",
       "    <tr>\n",
       "      <th>mean</th>\n",
       "      <td>40120.491279</td>\n",
       "      <td>4.811047</td>\n",
       "      <td>70.255814</td>\n",
       "      <td>2.133721</td>\n",
       "    </tr>\n",
       "    <tr>\n",
       "      <th>std</th>\n",
       "      <td>10300.292422</td>\n",
       "      <td>2.138579</td>\n",
       "      <td>41.473497</td>\n",
       "      <td>1.157872</td>\n",
       "    </tr>\n",
       "    <tr>\n",
       "      <th>min</th>\n",
       "      <td>2883.000000</td>\n",
       "      <td>1.000000</td>\n",
       "      <td>0.000000</td>\n",
       "      <td>0.000000</td>\n",
       "    </tr>\n",
       "    <tr>\n",
       "      <th>25%</th>\n",
       "      <td>43052.750000</td>\n",
       "      <td>4.000000</td>\n",
       "      <td>50.000000</td>\n",
       "      <td>1.000000</td>\n",
       "    </tr>\n",
       "    <tr>\n",
       "      <th>50%</th>\n",
       "      <td>43231.500000</td>\n",
       "      <td>4.000000</td>\n",
       "      <td>66.000000</td>\n",
       "      <td>2.000000</td>\n",
       "    </tr>\n",
       "    <tr>\n",
       "      <th>75%</th>\n",
       "      <td>43445.000000</td>\n",
       "      <td>6.000000</td>\n",
       "      <td>80.000000</td>\n",
       "      <td>3.000000</td>\n",
       "    </tr>\n",
       "    <tr>\n",
       "      <th>max</th>\n",
       "      <td>43630.000000</td>\n",
       "      <td>12.000000</td>\n",
       "      <td>523.000000</td>\n",
       "      <td>5.000000</td>\n",
       "    </tr>\n",
       "  </tbody>\n",
       "</table>\n",
       "</div>"
      ],
      "text/plain": [
       "         PropertyId    Capacity      Square  NumBedrooms\n",
       "count    344.000000  344.000000  344.000000   344.000000\n",
       "mean   40120.491279    4.811047   70.255814     2.133721\n",
       "std    10300.292422    2.138579   41.473497     1.157872\n",
       "min     2883.000000    1.000000    0.000000     0.000000\n",
       "25%    43052.750000    4.000000   50.000000     1.000000\n",
       "50%    43231.500000    4.000000   66.000000     2.000000\n",
       "75%    43445.000000    6.000000   80.000000     3.000000\n",
       "max    43630.000000   12.000000  523.000000     5.000000"
      ]
     },
     "execution_count": 804,
     "metadata": {},
     "output_type": "execute_result"
    }
   ],
   "source": [
    "propiedades_df.describe()"
   ]
  },
  {
   "cell_type": "code",
   "execution_count": 805,
   "metadata": {},
   "outputs": [
    {
     "data": {
      "text/plain": [
       "np.int64(0)"
      ]
     },
     "execution_count": 805,
     "metadata": {},
     "output_type": "execute_result"
    }
   ],
   "source": [
    " # Verificar duplicados\n",
    "duplicados_propiedades= propiedades_df.duplicated().sum()\n",
    "duplicados_propiedades"
   ]
  },
  {
   "cell_type": "code",
   "execution_count": 806,
   "metadata": {},
   "outputs": [
    {
     "data": {
      "text/plain": [
       "PropertyId       0\n",
       "RealProperty     0\n",
       "Capacity         0\n",
       "Square           0\n",
       "PropertyType    34\n",
       "NumBedrooms      0\n",
       "ReadyDate        0\n",
       "dtype: int64"
      ]
     },
     "execution_count": 806,
     "metadata": {},
     "output_type": "execute_result"
    }
   ],
   "source": [
    "# Verificar valores nulos\n",
    "faltantes_propiedades= propiedades_df.isnull().sum()\n",
    "faltantes_propiedades"
   ]
  },
  {
   "cell_type": "code",
   "execution_count": 807,
   "metadata": {},
   "outputs": [
    {
     "name": "stderr",
     "output_type": "stream",
     "text": [
      "C:\\Users\\USUARIO\\AppData\\Local\\Temp\\ipykernel_14096\\1144948147.py:2: FutureWarning: A value is trying to be set on a copy of a DataFrame or Series through chained assignment using an inplace method.\n",
      "The behavior will change in pandas 3.0. This inplace method will never work because the intermediate object on which we are setting values always behaves as a copy.\n",
      "\n",
      "For example, when doing 'df[col].method(value, inplace=True)', try using 'df.method({col: value}, inplace=True)' or df[col] = df[col].method(value) instead, to perform the operation inplace on the original object.\n",
      "\n",
      "\n",
      "  propiedades_df['PropertyType'].fillna('Unknown', inplace=True)\n"
     ]
    }
   ],
   "source": [
    "# Reemplazar valores faltantes de la columna PropertyType por valores Unknown\n",
    "propiedades_df['PropertyType'].fillna('Unknown', inplace=True)"
   ]
  },
  {
   "cell_type": "code",
   "execution_count": 808,
   "metadata": {},
   "outputs": [
    {
     "data": {
      "text/plain": [
       "PropertyId      0\n",
       "RealProperty    0\n",
       "Capacity        0\n",
       "Square          0\n",
       "PropertyType    0\n",
       "NumBedrooms     0\n",
       "ReadyDate       0\n",
       "dtype: int64"
      ]
     },
     "execution_count": 808,
     "metadata": {},
     "output_type": "execute_result"
    }
   ],
   "source": [
    "# Verificar resultados de cambios\n",
    "faltantes_propiedades= propiedades_df.isnull().sum()\n",
    "faltantes_propiedades"
   ]
  },
  {
   "cell_type": "markdown",
   "metadata": {},
   "source": [
    "Cambiamos el tipo de dato object a datetime de la columna 'ReadyDate'"
   ]
  },
  {
   "cell_type": "code",
   "execution_count": 809,
   "metadata": {},
   "outputs": [],
   "source": [
    "propiedades_df['ReadyDate'] = pd.to_datetime(propiedades_df['ReadyDate'], errors='coerce')"
   ]
  },
  {
   "cell_type": "code",
   "execution_count": 810,
   "metadata": {},
   "outputs": [
    {
     "data": {
      "text/plain": [
       "0   2024-09-25\n",
       "1   2024-08-12\n",
       "2   2024-08-04\n",
       "3   2024-07-05\n",
       "4   2024-06-27\n",
       "5   2024-09-19\n",
       "6   2024-07-27\n",
       "7   2024-07-09\n",
       "8   2024-05-18\n",
       "9   2024-05-25\n",
       "Name: ReadyDate, dtype: datetime64[ns]"
      ]
     },
     "execution_count": 810,
     "metadata": {},
     "output_type": "execute_result"
    }
   ],
   "source": [
    "# Mostrar resultados\n",
    "propiedades_df['ReadyDate'].head(10)"
   ]
  },
  {
   "cell_type": "markdown",
   "metadata": {},
   "source": [
    "Buscamos valores incongruentes en las variables Capacity y Square. Si hay valores que no tienen sentido (por ejemplo, capacidad o tamaño negativos), los eliminaremos."
   ]
  },
  {
   "cell_type": "code",
   "execution_count": 811,
   "metadata": {},
   "outputs": [],
   "source": [
    "propiedades_df = propiedades_df[(propiedades_df['Capacity'] > 0) & (propiedades_df['Square'] > 0)]"
   ]
  },
  {
   "cell_type": "code",
   "execution_count": 812,
   "metadata": {},
   "outputs": [
    {
     "data": {
      "text/plain": [
       "array([ 7,  4,  2, 10,  3,  6,  8,  5,  9, 11, 12])"
      ]
     },
     "execution_count": 812,
     "metadata": {},
     "output_type": "execute_result"
    }
   ],
   "source": [
    "# Verificar valores únicos en búsqueda de incongruencias\n",
    "propiedades_df['Capacity'].unique()"
   ]
  },
  {
   "cell_type": "code",
   "execution_count": 813,
   "metadata": {},
   "outputs": [
    {
     "data": {
      "text/plain": [
       "array([141,  70,  55,  60, 105,  66,  92,  51,  53,  28,  40,  64,  25,\n",
       "        95,  99,  68,  67,  50, 102,  45,  57,  44,  31,  84,  38,  65,\n",
       "       160,  90,  35, 150,  80, 103, 100, 130, 120, 106,  72,  61, 108,\n",
       "        85,  75,  54,  47,  62,  96, 140, 523, 194, 329, 110,  41,  89,\n",
       "        77,  78, 101,  69,  82, 124, 113, 111,  71,  32,  58,  83, 145,\n",
       "       116, 148, 127, 119,  73, 144,  74, 163,  59,  49, 122,  24,  81,\n",
       "        22,  20,  30])"
      ]
     },
     "execution_count": 813,
     "metadata": {},
     "output_type": "execute_result"
    }
   ],
   "source": [
    "# Verificar valores únicos en búsqueda de incongruencias\n",
    "propiedades_df['Square'].unique()"
   ]
  },
  {
   "cell_type": "code",
   "execution_count": 814,
   "metadata": {},
   "outputs": [
    {
     "name": "stdout",
     "output_type": "stream",
     "text": [
      "         Capacity  NumBedrooms\n",
      "count  334.000000   334.000000\n",
      "mean     4.907186     2.188623\n",
      "std      2.079590     1.119197\n",
      "min      2.000000     0.000000\n",
      "25%      4.000000     1.000000\n",
      "50%      4.000000     2.000000\n",
      "75%      6.000000     3.000000\n",
      "max     12.000000     5.000000\n"
     ]
    }
   ],
   "source": [
    "# Resumen estadístico para detectar valores posibles atípicos\n",
    "print(propiedades_df[['Capacity', 'NumBedrooms']].describe())"
   ]
  },
  {
   "cell_type": "code",
   "execution_count": 815,
   "metadata": {},
   "outputs": [],
   "source": [
    "# Filtrar los valores de la columna 'NumBedrooms' que sean mayores a 0. \n",
    "propiedades_df = propiedades_df[propiedades_df['NumBedrooms'] > 0]"
   ]
  },
  {
   "cell_type": "code",
   "execution_count": 816,
   "metadata": {},
   "outputs": [
    {
     "data": {
      "text/plain": [
       "array(['Apartment', 'Apa', 'Unknown', 'House'], dtype=object)"
      ]
     },
     "execution_count": 816,
     "metadata": {},
     "output_type": "execute_result"
    }
   ],
   "source": [
    "# Verificar posibles valores incongruentes\n",
    "propiedades_df['PropertyType'].unique()"
   ]
  },
  {
   "cell_type": "code",
   "execution_count": 817,
   "metadata": {},
   "outputs": [],
   "source": [
    "# Reemplazar los valores 'Apa' por 'Apartment', ya que hacen referencia a lo mismo.\n",
    "propiedades_df['PropertyType'] = propiedades_df['PropertyType'].replace('Apa', 'Apartment')"
   ]
  },
  {
   "cell_type": "code",
   "execution_count": 818,
   "metadata": {},
   "outputs": [
    {
     "data": {
      "text/plain": [
       "array(['Apartment', 'Unknown', 'House'], dtype=object)"
      ]
     },
     "execution_count": 818,
     "metadata": {},
     "output_type": "execute_result"
    }
   ],
   "source": [
    "# Verificar cambios\n",
    "propiedades_df['PropertyType'].unique()"
   ]
  },
  {
   "cell_type": "code",
   "execution_count": 819,
   "metadata": {},
   "outputs": [
    {
     "name": "stdout",
     "output_type": "stream",
     "text": [
      "El número de propiedades con 0 dormitorios es: 0\n"
     ]
    }
   ],
   "source": [
    "# Verificar cambios contando cuántos valores en 'NumBedrooms' son iguales a 0\n",
    "num_bedrooms_zero = (propiedades_df['NumBedrooms'] == 0).sum()\n",
    "\n",
    "# Imprimir el resultado\n",
    "print(f\"El número de propiedades con 0 dormitorios es: {num_bedrooms_zero}\")"
   ]
  },
  {
   "cell_type": "markdown",
   "metadata": {},
   "source": [
    "Observamos las estructuras de los datasets finales"
   ]
  },
  {
   "cell_type": "code",
   "execution_count": 820,
   "metadata": {},
   "outputs": [
    {
     "name": "stdout",
     "output_type": "stream",
     "text": [
      "<class 'pandas.core.frame.DataFrame'>\n",
      "Index: 313 entries, 0 to 343\n",
      "Data columns (total 7 columns):\n",
      " #   Column        Non-Null Count  Dtype         \n",
      "---  ------        --------------  -----         \n",
      " 0   PropertyId    313 non-null    int64         \n",
      " 1   RealProperty  313 non-null    object        \n",
      " 2   Capacity      313 non-null    int64         \n",
      " 3   Square        313 non-null    int64         \n",
      " 4   PropertyType  313 non-null    object        \n",
      " 5   NumBedrooms   313 non-null    int64         \n",
      " 6   ReadyDate     313 non-null    datetime64[ns]\n",
      "dtypes: datetime64[ns](1), int64(4), object(2)\n",
      "memory usage: 19.6+ KB\n"
     ]
    }
   ],
   "source": [
    "propiedades_df.info()"
   ]
  },
  {
   "cell_type": "code",
   "execution_count": 821,
   "metadata": {},
   "outputs": [
    {
     "name": "stdout",
     "output_type": "stream",
     "text": [
      "<class 'pandas.core.frame.DataFrame'>\n",
      "Index: 41588 entries, 1 to 68655\n",
      "Data columns (total 17 columns):\n",
      " #   Column              Non-Null Count  Dtype         \n",
      "---  ------              --------------  -----         \n",
      " 0   PropertyId          41588 non-null  int64         \n",
      " 1   Property_BookingId  41588 non-null  int64         \n",
      " 2   BookingCreatedDate  41588 non-null  datetime64[ns]\n",
      " 3   ArrivalDate         41588 non-null  datetime64[ns]\n",
      " 4   DepartureDate       41588 non-null  datetime64[ns]\n",
      " 5   Adults              41588 non-null  int64         \n",
      " 6   Children            41588 non-null  int64         \n",
      " 7   Infants             41588 non-null  int64         \n",
      " 8   Persons             41588 non-null  int64         \n",
      " 9   NumNights           41588 non-null  int64         \n",
      " 10  Channel             41588 non-null  object        \n",
      " 11  RoomRate            41588 non-null  float64       \n",
      " 12  CleaningFee         41588 non-null  float64       \n",
      " 13  Revenue             41588 non-null  float64       \n",
      " 14  ADR                 41588 non-null  float64       \n",
      " 15  TouristTax          41588 non-null  float64       \n",
      " 16  TotalPaid           41588 non-null  float64       \n",
      "dtypes: datetime64[ns](3), float64(6), int64(7), object(1)\n",
      "memory usage: 5.7+ MB\n"
     ]
    }
   ],
   "source": [
    "booking_df.info()"
   ]
  },
  {
   "cell_type": "markdown",
   "metadata": {},
   "source": [
    "Consilidación de los dos datasets en uno solo"
   ]
  },
  {
   "cell_type": "code",
   "execution_count": 822,
   "metadata": {},
   "outputs": [
    {
     "name": "stdout",
     "output_type": "stream",
     "text": [
      "<class 'pandas.core.frame.DataFrame'>\n",
      "RangeIndex: 43166 entries, 0 to 43165\n",
      "Data columns (total 23 columns):\n",
      " #   Column              Non-Null Count  Dtype         \n",
      "---  ------              --------------  -----         \n",
      " 0   PropertyId          43166 non-null  int64         \n",
      " 1   RealProperty        43166 non-null  object        \n",
      " 2   Capacity            43166 non-null  int64         \n",
      " 3   Square              43166 non-null  int64         \n",
      " 4   PropertyType        43166 non-null  object        \n",
      " 5   NumBedrooms         43166 non-null  int64         \n",
      " 6   ReadyDate           43166 non-null  datetime64[ns]\n",
      " 7   Property_BookingId  43166 non-null  int64         \n",
      " 8   BookingCreatedDate  43166 non-null  datetime64[ns]\n",
      " 9   ArrivalDate         43166 non-null  datetime64[ns]\n",
      " 10  DepartureDate       43166 non-null  datetime64[ns]\n",
      " 11  Adults              43166 non-null  int64         \n",
      " 12  Children            43166 non-null  int64         \n",
      " 13  Infants             43166 non-null  int64         \n",
      " 14  Persons             43166 non-null  int64         \n",
      " 15  NumNights           43166 non-null  int64         \n",
      " 16  Channel             43166 non-null  object        \n",
      " 17  RoomRate            43166 non-null  float64       \n",
      " 18  CleaningFee         43166 non-null  float64       \n",
      " 19  Revenue             43166 non-null  float64       \n",
      " 20  ADR                 43166 non-null  float64       \n",
      " 21  TouristTax          43166 non-null  float64       \n",
      " 22  TotalPaid           43166 non-null  float64       \n",
      "dtypes: datetime64[ns](4), float64(6), int64(10), object(3)\n",
      "memory usage: 7.6+ MB\n",
      "None\n"
     ]
    }
   ],
   "source": [
    "# Unir los DataFrames en función de la columna 'PropertyId'\n",
    "merged_df = pd.merge(propiedades_df, booking_df, on='PropertyId', how='inner')\n",
    "\n",
    "# Guarda el DataFrame resultante en un archivo CSV\n",
    "merged_df.to_csv('consolidado.csv', index=False)\n",
    "\n",
    "# Muestra la información del DataFrame resultante\n",
    "print(merged_df.info())"
   ]
  }
 ],
 "metadata": {
  "kernelspec": {
   "display_name": "venv",
   "language": "python",
   "name": "python3"
  },
  "language_info": {
   "codemirror_mode": {
    "name": "ipython",
    "version": 3
   },
   "file_extension": ".py",
   "mimetype": "text/x-python",
   "name": "python",
   "nbconvert_exporter": "python",
   "pygments_lexer": "ipython3",
   "version": "3.12.2"
  }
 },
 "nbformat": 4,
 "nbformat_minor": 2
}
